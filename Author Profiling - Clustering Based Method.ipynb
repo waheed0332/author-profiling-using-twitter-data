{
 "cells": [
  {
   "cell_type": "markdown",
   "metadata": {},
   "source": [
    "# Clustering Based Method"
   ]
  },
  {
   "cell_type": "markdown",
   "metadata": {},
   "source": [
    "# Importing Required Libraries"
   ]
  },
  {
   "cell_type": "code",
   "execution_count": 32,
   "metadata": {},
   "outputs": [],
   "source": [
    "import pandas as pd\n",
    "import numpy as np\n",
    "import time\n",
    "from sklearn.model_selection import train_test_split\n",
    "from sklearn.metrics import accuracy_score\n",
    "from sklearn.metrics import mean_squared_error\n",
    "from sklearn.cluster import KMeans\n",
    "from sklearn.cluster import AgglomerativeClustering\n",
    "import warnings\n",
    "warnings.filterwarnings('ignore')"
   ]
  },
  {
   "cell_type": "markdown",
   "metadata": {},
   "source": [
    "# Train and Test Classifier"
   ]
  },
  {
   "cell_type": "code",
   "execution_count": 33,
   "metadata": {},
   "outputs": [],
   "source": [
    "def train_and_test(file,classifier):\n",
    "    start = time.time()\n",
    "    data = pd.read_csv('extracted-features/'+file)\n",
    "    X = data.iloc[:,:-1]\n",
    "    y = data.iloc[:,-1:]\n",
    "    X_train, X_test, y_train, y_test = train_test_split(X,y,test_size=0.33,random_state=30)\n",
    "    model = eval(classifier+'(n_clusters=2)')\n",
    "    model.fit(X_train)\n",
    "    prediction = model.fit_predict(X_test)\n",
    "    end = time.time()\n",
    "    print('File:',file)\n",
    "    print('Execution Time:',round(end - start, 2),'sec')\n",
    "    print('Accuracy: [',str(classifier),':',accuracy_score(y_test,prediction.round()).round(3),']')\n",
    "    print('RMS Error: [',str(classifier),':',mean_squared_error(y_test,prediction.round()).round(3),']\\n')"
   ]
  },
  {
   "cell_type": "markdown",
   "metadata": {},
   "source": [
    "# Main"
   ]
  },
  {
   "cell_type": "code",
   "execution_count": 34,
   "metadata": {},
   "outputs": [
    {
     "name": "stdout",
     "output_type": "stream",
     "text": [
      "File: stylometry.csv\n",
      "Execution Time: 0.08 sec\n",
      "Accuracy: [ KMeans : 0.348 ]\n",
      "RMS Error: [ KMeans : 0.652 ]\n",
      "\n",
      "File: stylometry.csv\n",
      "Execution Time: 0.02 sec\n",
      "Accuracy: [ AgglomerativeClustering : 0.383 ]\n",
      "RMS Error: [ AgglomerativeClustering : 0.617 ]\n",
      "\n"
     ]
    }
   ],
   "source": [
    "train_and_test('stylometry.csv','KMeans')\n",
    "train_and_test('stylometry.csv','AgglomerativeClustering')"
   ]
  },
  {
   "cell_type": "code",
   "execution_count": 35,
   "metadata": {},
   "outputs": [
    {
     "name": "stdout",
     "output_type": "stream",
     "text": [
      "File: word_1_gram.csv\n",
      "Execution Time: 0.82 sec\n",
      "Accuracy: [ KMeans : 0.447 ]\n",
      "RMS Error: [ KMeans : 0.553 ]\n",
      "\n",
      "File: word_1_gram.csv\n",
      "Execution Time: 0.42 sec\n",
      "Accuracy: [ AgglomerativeClustering : 0.589 ]\n",
      "RMS Error: [ AgglomerativeClustering : 0.411 ]\n",
      "\n"
     ]
    }
   ],
   "source": [
    "train_and_test('word_1_gram.csv','KMeans')\n",
    "train_and_test('word_1_gram.csv','AgglomerativeClustering')"
   ]
  },
  {
   "cell_type": "code",
   "execution_count": 36,
   "metadata": {},
   "outputs": [
    {
     "name": "stdout",
     "output_type": "stream",
     "text": [
      "File: word_2_gram.csv\n",
      "Execution Time: 0.87 sec\n",
      "Accuracy: [ KMeans : 0.511 ]\n",
      "RMS Error: [ KMeans : 0.489 ]\n",
      "\n",
      "File: word_2_gram.csv\n",
      "Execution Time: 0.38 sec\n",
      "Accuracy: [ AgglomerativeClustering : 0.539 ]\n",
      "RMS Error: [ AgglomerativeClustering : 0.461 ]\n",
      "\n"
     ]
    }
   ],
   "source": [
    "train_and_test('word_2_gram.csv','KMeans')\n",
    "train_and_test('word_2_gram.csv','AgglomerativeClustering')"
   ]
  },
  {
   "cell_type": "code",
   "execution_count": 37,
   "metadata": {},
   "outputs": [
    {
     "name": "stdout",
     "output_type": "stream",
     "text": [
      "File: word_3_gram.csv\n",
      "Execution Time: 0.76 sec\n",
      "Accuracy: [ KMeans : 0.532 ]\n",
      "RMS Error: [ KMeans : 0.468 ]\n",
      "\n",
      "File: word_3_gram.csv\n",
      "Execution Time: 0.34 sec\n",
      "Accuracy: [ AgglomerativeClustering : 0.532 ]\n",
      "RMS Error: [ AgglomerativeClustering : 0.468 ]\n",
      "\n"
     ]
    }
   ],
   "source": [
    "train_and_test('word_3_gram.csv','KMeans')\n",
    "train_and_test('word_3_gram.csv','AgglomerativeClustering')"
   ]
  },
  {
   "cell_type": "code",
   "execution_count": 38,
   "metadata": {},
   "outputs": [
    {
     "name": "stdout",
     "output_type": "stream",
     "text": [
      "File: char_3_gram.csv\n",
      "Execution Time: 0.97 sec\n",
      "Accuracy: [ KMeans : 0.56 ]\n",
      "RMS Error: [ KMeans : 0.44 ]\n",
      "\n",
      "File: char_3_gram.csv\n",
      "Execution Time: 0.62 sec\n",
      "Accuracy: [ AgglomerativeClustering : 0.553 ]\n",
      "RMS Error: [ AgglomerativeClustering : 0.447 ]\n",
      "\n"
     ]
    }
   ],
   "source": [
    "train_and_test('char_3_gram.csv','KMeans')\n",
    "train_and_test('char_3_gram.csv','AgglomerativeClustering')"
   ]
  },
  {
   "cell_type": "code",
   "execution_count": 39,
   "metadata": {},
   "outputs": [
    {
     "name": "stdout",
     "output_type": "stream",
     "text": [
      "File: char_4_gram.csv\n",
      "Execution Time: 0.97 sec\n",
      "Accuracy: [ KMeans : 0.454 ]\n",
      "RMS Error: [ KMeans : 0.546 ]\n",
      "\n",
      "File: char_4_gram.csv\n",
      "Execution Time: 0.65 sec\n",
      "Accuracy: [ AgglomerativeClustering : 0.532 ]\n",
      "RMS Error: [ AgglomerativeClustering : 0.468 ]\n",
      "\n"
     ]
    }
   ],
   "source": [
    "train_and_test('char_4_gram.csv','KMeans')\n",
    "train_and_test('char_4_gram.csv','AgglomerativeClustering')"
   ]
  },
  {
   "cell_type": "code",
   "execution_count": 40,
   "metadata": {},
   "outputs": [
    {
     "name": "stdout",
     "output_type": "stream",
     "text": [
      "File: char_5_gram.csv\n",
      "Execution Time: 1.11 sec\n",
      "Accuracy: [ KMeans : 0.447 ]\n",
      "RMS Error: [ KMeans : 0.553 ]\n",
      "\n",
      "File: char_5_gram.csv\n",
      "Execution Time: 0.54 sec\n",
      "Accuracy: [ AgglomerativeClustering : 0.603 ]\n",
      "RMS Error: [ AgglomerativeClustering : 0.397 ]\n",
      "\n"
     ]
    }
   ],
   "source": [
    "train_and_test('char_5_gram.csv','KMeans')\n",
    "train_and_test('char_5_gram.csv','AgglomerativeClustering')"
   ]
  },
  {
   "cell_type": "code",
   "execution_count": 41,
   "metadata": {},
   "outputs": [
    {
     "name": "stdout",
     "output_type": "stream",
     "text": [
      "File: char_6_gram.csv\n",
      "Execution Time: 1.05 sec\n",
      "Accuracy: [ KMeans : 0.411 ]\n",
      "RMS Error: [ KMeans : 0.589 ]\n",
      "\n",
      "File: char_6_gram.csv\n",
      "Execution Time: 0.5 sec\n",
      "Accuracy: [ AgglomerativeClustering : 0.433 ]\n",
      "RMS Error: [ AgglomerativeClustering : 0.567 ]\n",
      "\n"
     ]
    }
   ],
   "source": [
    "train_and_test('char_6_gram.csv','KMeans')\n",
    "train_and_test('char_6_gram.csv','AgglomerativeClustering')"
   ]
  },
  {
   "cell_type": "code",
   "execution_count": 42,
   "metadata": {},
   "outputs": [
    {
     "name": "stdout",
     "output_type": "stream",
     "text": [
      "File: char_7_gram.csv\n",
      "Execution Time: 0.9 sec\n",
      "Accuracy: [ KMeans : 0.504 ]\n",
      "RMS Error: [ KMeans : 0.496 ]\n",
      "\n",
      "File: char_7_gram.csv\n",
      "Execution Time: 0.53 sec\n",
      "Accuracy: [ AgglomerativeClustering : 0.553 ]\n",
      "RMS Error: [ AgglomerativeClustering : 0.447 ]\n",
      "\n"
     ]
    }
   ],
   "source": [
    "train_and_test('char_7_gram.csv','KMeans')\n",
    "train_and_test('char_7_gram.csv','AgglomerativeClustering')"
   ]
  },
  {
   "cell_type": "code",
   "execution_count": 43,
   "metadata": {},
   "outputs": [
    {
     "name": "stdout",
     "output_type": "stream",
     "text": [
      "File: char_8_gram.csv\n",
      "Execution Time: 1.42 sec\n",
      "Accuracy: [ KMeans : 0.475 ]\n",
      "RMS Error: [ KMeans : 0.525 ]\n",
      "\n",
      "File: char_8_gram.csv\n",
      "Execution Time: 0.47 sec\n",
      "Accuracy: [ AgglomerativeClustering : 0.546 ]\n",
      "RMS Error: [ AgglomerativeClustering : 0.454 ]\n",
      "\n"
     ]
    }
   ],
   "source": [
    "train_and_test('char_8_gram.csv','KMeans')\n",
    "train_and_test('char_8_gram.csv','AgglomerativeClustering')"
   ]
  },
  {
   "cell_type": "code",
   "execution_count": 44,
   "metadata": {},
   "outputs": [
    {
     "name": "stdout",
     "output_type": "stream",
     "text": [
      "File: char_9_gram.csv\n",
      "Execution Time: 1.82 sec\n",
      "Accuracy: [ KMeans : 0.518 ]\n",
      "RMS Error: [ KMeans : 0.482 ]\n",
      "\n",
      "File: char_9_gram.csv\n",
      "Execution Time: 0.38 sec\n",
      "Accuracy: [ AgglomerativeClustering : 0.56 ]\n",
      "RMS Error: [ AgglomerativeClustering : 0.44 ]\n",
      "\n"
     ]
    }
   ],
   "source": [
    "train_and_test('char_9_gram.csv','KMeans')\n",
    "train_and_test('char_9_gram.csv','AgglomerativeClustering')"
   ]
  },
  {
   "cell_type": "code",
   "execution_count": 45,
   "metadata": {},
   "outputs": [
    {
     "name": "stdout",
     "output_type": "stream",
     "text": [
      "File: char_10_gram.csv\n",
      "Execution Time: 0.92 sec\n",
      "Accuracy: [ KMeans : 0.496 ]\n",
      "RMS Error: [ KMeans : 0.504 ]\n",
      "\n",
      "File: char_10_gram.csv\n",
      "Execution Time: 0.35 sec\n",
      "Accuracy: [ AgglomerativeClustering : 0.539 ]\n",
      "RMS Error: [ AgglomerativeClustering : 0.461 ]\n",
      "\n"
     ]
    }
   ],
   "source": [
    "train_and_test('char_10_gram.csv','KMeans')\n",
    "train_and_test('char_10_gram.csv','AgglomerativeClustering')"
   ]
  }
 ],
 "metadata": {
  "kernelspec": {
   "display_name": "Python 3",
   "language": "python",
   "name": "python3"
  },
  "language_info": {
   "codemirror_mode": {
    "name": "ipython",
    "version": 3
   },
   "file_extension": ".py",
   "mimetype": "text/x-python",
   "name": "python",
   "nbconvert_exporter": "python",
   "pygments_lexer": "ipython3",
   "version": "3.7.2"
  }
 },
 "nbformat": 4,
 "nbformat_minor": 2
}
