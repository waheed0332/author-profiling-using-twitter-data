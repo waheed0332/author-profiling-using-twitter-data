{
 "cells": [
  {
   "cell_type": "markdown",
   "metadata": {},
   "source": [
    "# Stylometry Based Method"
   ]
  },
  {
   "cell_type": "markdown",
   "metadata": {},
   "source": [
    "# Importing Required Libraries"
   ]
  },
  {
   "cell_type": "code",
   "execution_count": 65,
   "metadata": {},
   "outputs": [],
   "source": [
    "import pandas as pd\n",
    "import numpy as np\n",
    "import glob\n",
    "import time\n",
    "import html\n",
    "from sklearn.model_selection import train_test_split\n",
    "from sklearn.metrics import accuracy_score\n",
    "from sklearn.metrics import mean_squared_error\n",
    "from sklearn.naive_bayes import GaussianNB\n",
    "from sklearn.svm import LinearSVC\n",
    "from sklearn.ensemble import AdaBoostClassifier\n",
    "from sklearn.ensemble import RandomForestClassifier\n",
    "import warnings\n",
    "warnings.filterwarnings('ignore')"
   ]
  },
  {
   "cell_type": "markdown",
   "metadata": {},
   "source": [
    "# Load Data and Export Features"
   ]
  },
  {
   "cell_type": "code",
   "execution_count": 66,
   "metadata": {},
   "outputs": [],
   "source": [
    "def load_and_export():\n",
    "    start = time.time()\n",
    "    path = \"twitter-gender-corpus/*/*.txt\"\n",
    "    profiles = glob.glob(path)\n",
    "    features = pd.DataFrame(columns=['small_letters','capital_letters','spaces','digits',\n",
    "                                 ',','.','@','(',')','!','-','?','%','&','#','_','=',';',':','/','author']) # Features\n",
    "    \n",
    "    for single_profile in profiles:\n",
    "        author = 0 if 'female' in single_profile else 1\n",
    "        file = open(single_profile, \"r\",encoding=\"utf8\")\n",
    "        text = file.read()\n",
    "        text = html.unescape(text)\n",
    "        features = features.append({'small_letters':sum(c.islower() for c in text),\n",
    "                                    'capital_letters':sum(c.isupper() for c in text),\n",
    "                                    'spaces':text.count(' '),\n",
    "                                    'digits':sum(c.isdigit() for c in text),\n",
    "                                    ',':text.count(','),\n",
    "                                    '.':text.count('.'),\n",
    "                                    '@':text.count('@'),\n",
    "                                    '(':text.count('('),\n",
    "                                    ')':text.count(')'),\n",
    "                                    '!':text.count('!'),\n",
    "                                    '-':text.count('-'),\n",
    "                                    '?':text.count('?'),\n",
    "                                    '%':text.count('%'),\n",
    "                                    '&':text.count('&'),\n",
    "                                    '#':text.count('#'),\n",
    "                                    '_':text.count('_'),\n",
    "                                    '=':text.count('='),\n",
    "                                    ';':text.count(';'),\n",
    "                                    ':':text.count(':'),\n",
    "                                    '/':text.count('/'),\n",
    "                                    'author':author} , ignore_index=True)\n",
    "        features.to_csv('extracted-features/stylometry.csv',index=False)\n",
    "    end = time.time()\n",
    "    print('Exported File: stylometry.csv')\n",
    "    print('Execution Time:',round(end - start, 2),'sec')"
   ]
  },
  {
   "cell_type": "markdown",
   "metadata": {},
   "source": [
    "# Train and Test Classifier"
   ]
  },
  {
   "cell_type": "code",
   "execution_count": 73,
   "metadata": {},
   "outputs": [],
   "source": [
    "def train_and_test(file,classifier):\n",
    "    start = time.time()\n",
    "    stylometry = pd.read_csv('extracted-features/'+file)\n",
    "    X = stylometry.iloc[:,:-1]\n",
    "    y = stylometry.iloc[:,-1:]\n",
    "    X_train, X_test, y_train, y_test = train_test_split(X,y,test_size=0.33,random_state=30)\n",
    "    model = eval(classifier+'()')\n",
    "    model.fit(X_train,y_train)\n",
    "    prediction = model.predict(X_test)\n",
    "    end = time.time()\n",
    "    print('File:',file)\n",
    "    print('Execution Time:',round(end - start, 2),'sec')\n",
    "    print('Accuracy: [',str(classifier),':',accuracy_score(y_test,prediction.round()).round(3),']')\n",
    "    print('RMS Error: [',str(classifier),':',mean_squared_error(y_test,prediction.round()).round(3),']')"
   ]
  },
  {
   "cell_type": "markdown",
   "metadata": {},
   "source": [
    "# Main"
   ]
  },
  {
   "cell_type": "code",
   "execution_count": 74,
   "metadata": {},
   "outputs": [
    {
     "name": "stdout",
     "output_type": "stream",
     "text": [
      "Exported File: stylometry.csv\n",
      "Execution Time: 48.31 sec\n"
     ]
    }
   ],
   "source": [
    "load_and_export()"
   ]
  },
  {
   "cell_type": "code",
   "execution_count": 75,
   "metadata": {},
   "outputs": [
    {
     "name": "stdout",
     "output_type": "stream",
     "text": [
      "File: stylometry.csv\n",
      "Execution Time: 0.02 sec\n",
      "Accuracy: [ GaussianNB : 0.631 ]\n",
      "RMS Error: [ GaussianNB : 0.369 ]\n"
     ]
    }
   ],
   "source": [
    "train_and_test('stylometry.csv','GaussianNB')"
   ]
  },
  {
   "cell_type": "code",
   "execution_count": 76,
   "metadata": {},
   "outputs": [
    {
     "name": "stdout",
     "output_type": "stream",
     "text": [
      "File: stylometry.csv\n",
      "Execution Time: 0.08 sec\n",
      "Accuracy: [ LinearSVC : 0.574 ]\n",
      "RMS Error: [ LinearSVC : 0.426 ]\n"
     ]
    }
   ],
   "source": [
    "train_and_test('stylometry.csv','LinearSVC')"
   ]
  },
  {
   "cell_type": "code",
   "execution_count": 77,
   "metadata": {},
   "outputs": [
    {
     "name": "stdout",
     "output_type": "stream",
     "text": [
      "File: stylometry.csv\n",
      "Execution Time: 0.22 sec\n",
      "Accuracy: [ AdaBoostClassifier : 0.638 ]\n",
      "RMS Error: [ AdaBoostClassifier : 0.362 ]\n"
     ]
    }
   ],
   "source": [
    "train_and_test('stylometry.csv','AdaBoostClassifier')"
   ]
  },
  {
   "cell_type": "code",
   "execution_count": 78,
   "metadata": {},
   "outputs": [
    {
     "name": "stdout",
     "output_type": "stream",
     "text": [
      "File: stylometry.csv\n",
      "Execution Time: 0.03 sec\n",
      "Accuracy: [ RandomForestClassifier : 0.596 ]\n",
      "RMS Error: [ RandomForestClassifier : 0.404 ]\n"
     ]
    }
   ],
   "source": [
    "train_and_test('stylometry.csv','RandomForestClassifier')"
   ]
  }
 ],
 "metadata": {
  "kernelspec": {
   "display_name": "Python 3",
   "language": "python",
   "name": "python3"
  },
  "language_info": {
   "codemirror_mode": {
    "name": "ipython",
    "version": 3
   },
   "file_extension": ".py",
   "mimetype": "text/x-python",
   "name": "python",
   "nbconvert_exporter": "python",
   "pygments_lexer": "ipython3",
   "version": "3.7.2"
  }
 },
 "nbformat": 4,
 "nbformat_minor": 2
}
